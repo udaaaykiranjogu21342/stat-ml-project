{
  "nbformat": 4,
  "nbformat_minor": 0,
  "metadata": {
    "colab": {
      "provenance": []
    },
    "kernelspec": {
      "name": "python3",
      "display_name": "Python 3"
    },
    "language_info": {
      "name": "python"
    }
  },
  "cells": [
    {
      "cell_type": "code",
      "execution_count": 2,
      "metadata": {
        "id": "dYzTZbQaLBgH"
      },
      "outputs": [],
      "source": [
        "import numpy as np\n",
        "from matplotlib import pyplot as plt\n",
        "from sklearn.preprocessing import StandardScaler\n",
        "from imblearn.over_sampling import RandomOverSampler\n",
        "from sklearn.metrics import classification_report"
      ]
    },
    {
      "cell_type": "code",
      "source": [
        "import pandas as pd\n",
        "a=pd.read_csv(\"/content/breast_cancer_csv.csv\")\n",
        "print(a)"
      ],
      "metadata": {
        "colab": {
          "base_uri": "https://localhost:8080/"
        },
        "id": "BB2RrcpTLCvq",
        "outputId": "ebe9e897-8381-492e-a39a-ff896936a8de"
      },
      "execution_count": 4,
      "outputs": [
        {
          "output_type": "stream",
          "name": "stdout",
          "text": [
            "     Age  Gender  Protein1  Protein2  Protein3  Protein4 Tumour_Stage  \\\n",
            "0     42  FEMALE  0.952560   2.15000  0.007972 -0.048340           II   \n",
            "1     54  FEMALE  0.000000   1.38020 -0.498030 -0.507320           II   \n",
            "2     63  FEMALE -0.523030   1.76400 -0.370190  0.010815           II   \n",
            "3     78  FEMALE -0.876180   0.12943 -0.370380  0.132190            I   \n",
            "4     42  FEMALE  0.226110   1.74910 -0.543970 -0.390210           II   \n",
            "..   ...     ...       ...       ...       ...       ...          ...   \n",
            "329   59  FEMALE  0.024598   1.40050  0.024751  0.280320           II   \n",
            "330   41  FEMALE  0.100120  -0.46547  0.472370 -0.523870            I   \n",
            "331   54  FEMALE  0.753820   1.64250 -0.332850  0.857860           II   \n",
            "332   74  FEMALE  0.972510   1.42680 -0.366570 -0.107820           II   \n",
            "333   66  FEMALE  0.286380   1.39980  0.318830  0.836050           II   \n",
            "\n",
            "                          Histology ER status PR status HER2 status  \\\n",
            "0     Infiltrating Ductal Carcinoma  Positive  Positive    Negative   \n",
            "1     Infiltrating Ductal Carcinoma  Positive  Positive    Negative   \n",
            "2     Infiltrating Ductal Carcinoma  Positive  Positive    Negative   \n",
            "3     Infiltrating Ductal Carcinoma  Positive  Positive    Negative   \n",
            "4     Infiltrating Ductal Carcinoma  Positive  Positive    Positive   \n",
            "..                              ...       ...       ...         ...   \n",
            "329   Infiltrating Ductal Carcinoma  Positive  Positive    Positive   \n",
            "330   Infiltrating Ductal Carcinoma  Positive  Positive    Positive   \n",
            "331   Infiltrating Ductal Carcinoma  Positive  Positive    Negative   \n",
            "332  Infiltrating Lobular Carcinoma  Positive  Positive    Negative   \n",
            "333   Infiltrating Ductal Carcinoma  Positive  Positive    Negative   \n",
            "\n",
            "                    Surgery_type Date_of_Surgery Date_of_Last_Visit  \\\n",
            "0                          Other       20-May-18          26-Aug-18   \n",
            "1                          Other       26-Apr-18          25-Jan-19   \n",
            "2                     Lumpectomy       24-Aug-18          08-Apr-20   \n",
            "3                          Other       16-Nov-18          28-Jul-20   \n",
            "4                     Lumpectomy       12-Dec-18          05-Jan-19   \n",
            "..                           ...             ...                ...   \n",
            "329                   Lumpectomy       15-Jan-19          27-Mar-20   \n",
            "330  Modified Radical Mastectomy       25-Jul-18          23-Apr-19   \n",
            "331            Simple Mastectomy       26-Mar-19          11-Oct-19   \n",
            "332                   Lumpectomy       26-Nov-18          05-Dec-18   \n",
            "333  Modified Radical Mastectomy       04-Feb-19          10-Aug-19   \n",
            "\n",
            "    Patient_Status  \n",
            "0            Alive  \n",
            "1             Dead  \n",
            "2            Alive  \n",
            "3            Alive  \n",
            "4            Alive  \n",
            "..             ...  \n",
            "329          Alive  \n",
            "330          Alive  \n",
            "331           Dead  \n",
            "332          Alive  \n",
            "333           Dead  \n",
            "\n",
            "[334 rows x 15 columns]\n"
          ]
        }
      ]
    },
    {
      "cell_type": "code",
      "source": [
        "import pandas as pd\n",
        "from sklearn.preprocessing import LabelEncoder\n",
        "\n",
        "\n",
        "df = pd.DataFrame(a)\n",
        "\n",
        "label_encoders = {}\n",
        "\n",
        "for column in ['Tumour_Stage', 'Histology', 'ER status', 'PR status', 'HER2 status','Patient_Status']:\n",
        "    label_encoder = LabelEncoder()\n",
        "    df[column] = label_encoder.fit_transform(df[column])\n",
        "    label_encoders[column] = label_encoder\n",
        "\n",
        "\n",
        "print(df)\n",
        "\n",
        "\n"
      ],
      "metadata": {
        "colab": {
          "base_uri": "https://localhost:8080/"
        },
        "id": "uxyaqW6jLGGO",
        "outputId": "abdb2c18-1a4b-4323-93ae-3ba92c8483a6"
      },
      "execution_count": 5,
      "outputs": [
        {
          "output_type": "stream",
          "name": "stdout",
          "text": [
            "     Age  Gender  Protein1  Protein2  Protein3  Protein4  Tumour_Stage  \\\n",
            "0     42  FEMALE  0.952560   2.15000  0.007972 -0.048340             1   \n",
            "1     54  FEMALE  0.000000   1.38020 -0.498030 -0.507320             1   \n",
            "2     63  FEMALE -0.523030   1.76400 -0.370190  0.010815             1   \n",
            "3     78  FEMALE -0.876180   0.12943 -0.370380  0.132190             0   \n",
            "4     42  FEMALE  0.226110   1.74910 -0.543970 -0.390210             1   \n",
            "..   ...     ...       ...       ...       ...       ...           ...   \n",
            "329   59  FEMALE  0.024598   1.40050  0.024751  0.280320             1   \n",
            "330   41  FEMALE  0.100120  -0.46547  0.472370 -0.523870             0   \n",
            "331   54  FEMALE  0.753820   1.64250 -0.332850  0.857860             1   \n",
            "332   74  FEMALE  0.972510   1.42680 -0.366570 -0.107820             1   \n",
            "333   66  FEMALE  0.286380   1.39980  0.318830  0.836050             1   \n",
            "\n",
            "     Histology  ER status  PR status  HER2 status  \\\n",
            "0            0          0          0            0   \n",
            "1            0          0          0            0   \n",
            "2            0          0          0            0   \n",
            "3            0          0          0            0   \n",
            "4            0          0          0            1   \n",
            "..         ...        ...        ...          ...   \n",
            "329          0          0          0            1   \n",
            "330          0          0          0            1   \n",
            "331          0          0          0            0   \n",
            "332          1          0          0            0   \n",
            "333          0          0          0            0   \n",
            "\n",
            "                    Surgery_type Date_of_Surgery Date_of_Last_Visit  \\\n",
            "0                          Other       20-May-18          26-Aug-18   \n",
            "1                          Other       26-Apr-18          25-Jan-19   \n",
            "2                     Lumpectomy       24-Aug-18          08-Apr-20   \n",
            "3                          Other       16-Nov-18          28-Jul-20   \n",
            "4                     Lumpectomy       12-Dec-18          05-Jan-19   \n",
            "..                           ...             ...                ...   \n",
            "329                   Lumpectomy       15-Jan-19          27-Mar-20   \n",
            "330  Modified Radical Mastectomy       25-Jul-18          23-Apr-19   \n",
            "331            Simple Mastectomy       26-Mar-19          11-Oct-19   \n",
            "332                   Lumpectomy       26-Nov-18          05-Dec-18   \n",
            "333  Modified Radical Mastectomy       04-Feb-19          10-Aug-19   \n",
            "\n",
            "     Patient_Status  \n",
            "0                 0  \n",
            "1                 1  \n",
            "2                 0  \n",
            "3                 0  \n",
            "4                 0  \n",
            "..              ...  \n",
            "329               0  \n",
            "330               0  \n",
            "331               1  \n",
            "332               0  \n",
            "333               1  \n",
            "\n",
            "[334 rows x 15 columns]\n"
          ]
        }
      ]
    },
    {
      "cell_type": "code",
      "source": [
        "a1=a.dropna()\n",
        "y=a1[\"Patient_Status\"]\n",
        "print(y)\n",
        "x=a1.drop(['Surgery_type','Date_of_Surgery','Date_of_Last_Visit','Gender'],axis=1)\n",
        "\n",
        "print(x)\n",
        "print(x.shape)"
      ],
      "metadata": {
        "colab": {
          "base_uri": "https://localhost:8080/"
        },
        "id": "mcmPs1ifLZZT",
        "outputId": "51165897-8946-462e-eeb2-6c6336901f0a"
      },
      "execution_count": 6,
      "outputs": [
        {
          "output_type": "stream",
          "name": "stdout",
          "text": [
            "0      0\n",
            "1      1\n",
            "2      0\n",
            "3      0\n",
            "4      0\n",
            "      ..\n",
            "329    0\n",
            "330    0\n",
            "331    1\n",
            "332    0\n",
            "333    1\n",
            "Name: Patient_Status, Length: 317, dtype: int64\n",
            "     Age  Protein1  Protein2  Protein3  Protein4  Tumour_Stage  Histology  \\\n",
            "0     42  0.952560   2.15000  0.007972 -0.048340             1          0   \n",
            "1     54  0.000000   1.38020 -0.498030 -0.507320             1          0   \n",
            "2     63 -0.523030   1.76400 -0.370190  0.010815             1          0   \n",
            "3     78 -0.876180   0.12943 -0.370380  0.132190             0          0   \n",
            "4     42  0.226110   1.74910 -0.543970 -0.390210             1          0   \n",
            "..   ...       ...       ...       ...       ...           ...        ...   \n",
            "329   59  0.024598   1.40050  0.024751  0.280320             1          0   \n",
            "330   41  0.100120  -0.46547  0.472370 -0.523870             0          0   \n",
            "331   54  0.753820   1.64250 -0.332850  0.857860             1          0   \n",
            "332   74  0.972510   1.42680 -0.366570 -0.107820             1          1   \n",
            "333   66  0.286380   1.39980  0.318830  0.836050             1          0   \n",
            "\n",
            "     ER status  PR status  HER2 status  Patient_Status  \n",
            "0            0          0            0               0  \n",
            "1            0          0            0               1  \n",
            "2            0          0            0               0  \n",
            "3            0          0            0               0  \n",
            "4            0          0            1               0  \n",
            "..         ...        ...          ...             ...  \n",
            "329          0          0            1               0  \n",
            "330          0          0            1               0  \n",
            "331          0          0            0               1  \n",
            "332          0          0            0               0  \n",
            "333          0          0            0               1  \n",
            "\n",
            "[317 rows x 11 columns]\n",
            "(317, 11)\n"
          ]
        }
      ]
    },
    {
      "cell_type": "code",
      "source": [
        "x1=x.fillna(0)"
      ],
      "metadata": {
        "id": "Dhu9ak6MLfPB"
      },
      "execution_count": 7,
      "outputs": []
    },
    {
      "cell_type": "code",
      "source": [
        "import pandas as pd\n",
        "from sklearn.model_selection import train_test_split\n",
        "x_train, x_test, y_train, y_test= train_test_split(x, y, test_size=0.2, random_state=20)\n",
        "print(x_train)\n",
        "print(y_train)\n",
        "print(x_train.shape)\n",
        "print(y_train.shape)\n"
      ],
      "metadata": {
        "colab": {
          "base_uri": "https://localhost:8080/"
        },
        "id": "uEqkth6RLi1h",
        "outputId": "72682985-f29e-4878-c07f-f8fc4724d811"
      },
      "execution_count": 8,
      "outputs": [
        {
          "output_type": "stream",
          "name": "stdout",
          "text": [
            "     Age  Protein1  Protein2  Protein3  Protein4  Tumour_Stage  Histology  \\\n",
            "122   60  0.211970   1.52740 -0.409490  0.000978             1          1   \n",
            "276   40  0.087549   2.19570 -0.993560 -0.378070             2          0   \n",
            "17    63  0.052728   0.72210 -0.308650 -0.531290             2          0   \n",
            "106   49  0.061643   1.31490 -0.099357  0.754410             1          1   \n",
            "101   66 -0.370430   1.91850 -0.796080 -0.062903             1          1   \n",
            "..   ...       ...       ...       ...       ...           ...        ...   \n",
            "74    69 -0.489030   2.37840 -0.467090  0.097310             0          0   \n",
            "293   53 -0.361650   2.65660  0.307690  0.203820             1          0   \n",
            "228   73 -0.218610   0.95399  0.324490 -0.799830             1          0   \n",
            "236   64 -0.338660  -0.64147  1.657500 -0.420820             2          0   \n",
            "286   78 -0.169500   1.38790 -1.307100 -1.259700             0          0   \n",
            "\n",
            "     ER status  PR status  HER2 status  Patient_Status  \n",
            "122          0          0            0               0  \n",
            "276          0          0            1               0  \n",
            "17           0          0            0               1  \n",
            "106          0          0            0               0  \n",
            "101          0          0            0               0  \n",
            "..         ...        ...          ...             ...  \n",
            "74           0          0            0               0  \n",
            "293          0          0            0               0  \n",
            "228          0          0            0               0  \n",
            "236          0          0            0               0  \n",
            "286          0          0            0               0  \n",
            "\n",
            "[253 rows x 11 columns]\n",
            "122    0\n",
            "276    0\n",
            "17     1\n",
            "106    0\n",
            "101    0\n",
            "      ..\n",
            "74     0\n",
            "293    0\n",
            "228    0\n",
            "236    0\n",
            "286    0\n",
            "Name: Patient_Status, Length: 253, dtype: int64\n",
            "(253, 11)\n",
            "(253,)\n"
          ]
        }
      ]
    },
    {
      "cell_type": "code",
      "source": [
        "from sklearn.linear_model import LogisticRegression\n",
        "model = LogisticRegression()\n",
        "model.fit(x_train,y_train)"
      ],
      "metadata": {
        "colab": {
          "base_uri": "https://localhost:8080/",
          "height": 233
        },
        "id": "1doN2sMQLnIf",
        "outputId": "02190c6e-7b32-4dc5-bded-5e388cc95f06"
      },
      "execution_count": 9,
      "outputs": [
        {
          "output_type": "stream",
          "name": "stderr",
          "text": [
            "/usr/local/lib/python3.10/dist-packages/sklearn/linear_model/_logistic.py:458: ConvergenceWarning: lbfgs failed to converge (status=1):\n",
            "STOP: TOTAL NO. of ITERATIONS REACHED LIMIT.\n",
            "\n",
            "Increase the number of iterations (max_iter) or scale the data as shown in:\n",
            "    https://scikit-learn.org/stable/modules/preprocessing.html\n",
            "Please also refer to the documentation for alternative solver options:\n",
            "    https://scikit-learn.org/stable/modules/linear_model.html#logistic-regression\n",
            "  n_iter_i = _check_optimize_result(\n"
          ]
        },
        {
          "output_type": "execute_result",
          "data": {
            "text/plain": [
              "LogisticRegression()"
            ],
            "text/html": [
              "<style>#sk-container-id-1 {color: black;background-color: white;}#sk-container-id-1 pre{padding: 0;}#sk-container-id-1 div.sk-toggleable {background-color: white;}#sk-container-id-1 label.sk-toggleable__label {cursor: pointer;display: block;width: 100%;margin-bottom: 0;padding: 0.3em;box-sizing: border-box;text-align: center;}#sk-container-id-1 label.sk-toggleable__label-arrow:before {content: \"▸\";float: left;margin-right: 0.25em;color: #696969;}#sk-container-id-1 label.sk-toggleable__label-arrow:hover:before {color: black;}#sk-container-id-1 div.sk-estimator:hover label.sk-toggleable__label-arrow:before {color: black;}#sk-container-id-1 div.sk-toggleable__content {max-height: 0;max-width: 0;overflow: hidden;text-align: left;background-color: #f0f8ff;}#sk-container-id-1 div.sk-toggleable__content pre {margin: 0.2em;color: black;border-radius: 0.25em;background-color: #f0f8ff;}#sk-container-id-1 input.sk-toggleable__control:checked~div.sk-toggleable__content {max-height: 200px;max-width: 100%;overflow: auto;}#sk-container-id-1 input.sk-toggleable__control:checked~label.sk-toggleable__label-arrow:before {content: \"▾\";}#sk-container-id-1 div.sk-estimator input.sk-toggleable__control:checked~label.sk-toggleable__label {background-color: #d4ebff;}#sk-container-id-1 div.sk-label input.sk-toggleable__control:checked~label.sk-toggleable__label {background-color: #d4ebff;}#sk-container-id-1 input.sk-hidden--visually {border: 0;clip: rect(1px 1px 1px 1px);clip: rect(1px, 1px, 1px, 1px);height: 1px;margin: -1px;overflow: hidden;padding: 0;position: absolute;width: 1px;}#sk-container-id-1 div.sk-estimator {font-family: monospace;background-color: #f0f8ff;border: 1px dotted black;border-radius: 0.25em;box-sizing: border-box;margin-bottom: 0.5em;}#sk-container-id-1 div.sk-estimator:hover {background-color: #d4ebff;}#sk-container-id-1 div.sk-parallel-item::after {content: \"\";width: 100%;border-bottom: 1px solid gray;flex-grow: 1;}#sk-container-id-1 div.sk-label:hover label.sk-toggleable__label {background-color: #d4ebff;}#sk-container-id-1 div.sk-serial::before {content: \"\";position: absolute;border-left: 1px solid gray;box-sizing: border-box;top: 0;bottom: 0;left: 50%;z-index: 0;}#sk-container-id-1 div.sk-serial {display: flex;flex-direction: column;align-items: center;background-color: white;padding-right: 0.2em;padding-left: 0.2em;position: relative;}#sk-container-id-1 div.sk-item {position: relative;z-index: 1;}#sk-container-id-1 div.sk-parallel {display: flex;align-items: stretch;justify-content: center;background-color: white;position: relative;}#sk-container-id-1 div.sk-item::before, #sk-container-id-1 div.sk-parallel-item::before {content: \"\";position: absolute;border-left: 1px solid gray;box-sizing: border-box;top: 0;bottom: 0;left: 50%;z-index: -1;}#sk-container-id-1 div.sk-parallel-item {display: flex;flex-direction: column;z-index: 1;position: relative;background-color: white;}#sk-container-id-1 div.sk-parallel-item:first-child::after {align-self: flex-end;width: 50%;}#sk-container-id-1 div.sk-parallel-item:last-child::after {align-self: flex-start;width: 50%;}#sk-container-id-1 div.sk-parallel-item:only-child::after {width: 0;}#sk-container-id-1 div.sk-dashed-wrapped {border: 1px dashed gray;margin: 0 0.4em 0.5em 0.4em;box-sizing: border-box;padding-bottom: 0.4em;background-color: white;}#sk-container-id-1 div.sk-label label {font-family: monospace;font-weight: bold;display: inline-block;line-height: 1.2em;}#sk-container-id-1 div.sk-label-container {text-align: center;}#sk-container-id-1 div.sk-container {/* jupyter's `normalize.less` sets `[hidden] { display: none; }` but bootstrap.min.css set `[hidden] { display: none !important; }` so we also need the `!important` here to be able to override the default hidden behavior on the sphinx rendered scikit-learn.org. See: https://github.com/scikit-learn/scikit-learn/issues/21755 */display: inline-block !important;position: relative;}#sk-container-id-1 div.sk-text-repr-fallback {display: none;}</style><div id=\"sk-container-id-1\" class=\"sk-top-container\"><div class=\"sk-text-repr-fallback\"><pre>LogisticRegression()</pre><b>In a Jupyter environment, please rerun this cell to show the HTML representation or trust the notebook. <br />On GitHub, the HTML representation is unable to render, please try loading this page with nbviewer.org.</b></div><div class=\"sk-container\" hidden><div class=\"sk-item\"><div class=\"sk-estimator sk-toggleable\"><input class=\"sk-toggleable__control sk-hidden--visually\" id=\"sk-estimator-id-1\" type=\"checkbox\" checked><label for=\"sk-estimator-id-1\" class=\"sk-toggleable__label sk-toggleable__label-arrow\">LogisticRegression</label><div class=\"sk-toggleable__content\"><pre>LogisticRegression()</pre></div></div></div></div></div>"
            ]
          },
          "metadata": {},
          "execution_count": 9
        }
      ]
    },
    {
      "cell_type": "code",
      "source": [
        "from sklearn.metrics import accuracy_score, classification_report\n",
        "\n",
        "y_pred = model.predict(x_test)\n",
        "accuracy_LR = accuracy_score(y_test, y_pred)\n",
        "report = classification_report(y_test, y_pred)\n",
        "\n",
        "print(\"Accuracy:\", accuracy_LR)\n",
        "print(\"Classification Report:\\n\",report)"
      ],
      "metadata": {
        "colab": {
          "base_uri": "https://localhost:8080/"
        },
        "id": "rfCQrX6sOTSB",
        "outputId": "5b9e0934-a96b-4df5-a280-6bbe53b9b8c8"
      },
      "execution_count": 10,
      "outputs": [
        {
          "output_type": "stream",
          "name": "stdout",
          "text": [
            "Accuracy: 1.0\n",
            "Classification Report:\n",
            "               precision    recall  f1-score   support\n",
            "\n",
            "           0       1.00      1.00      1.00        49\n",
            "           1       1.00      1.00      1.00        15\n",
            "\n",
            "    accuracy                           1.00        64\n",
            "   macro avg       1.00      1.00      1.00        64\n",
            "weighted avg       1.00      1.00      1.00        64\n",
            "\n"
          ]
        }
      ]
    },
    {
      "cell_type": "code",
      "source": [
        "\n",
        "from sklearn import datasets\n",
        "from sklearn.model_selection import train_test_split\n",
        "from sklearn.svm import SVC\n",
        "from sklearn.metrics import accuracy_score\n",
        "\n",
        "\n",
        "\n",
        "\n",
        "\n",
        "svm_classifier = SVC(kernel='linear')\n",
        "\n",
        "svm_classifier.fit(x_train, y_train)\n",
        "\n",
        "\n",
        "y_pred = svm_classifier.predict(x_test)\n",
        "\n",
        "accuracy_svm1 = accuracy_score(y_test, y_pred)\n",
        "print(f\"Accuracy:{accuracy_svm1}\")\n",
        "print(\"Classification Report:\\n\",report)\n"
      ],
      "metadata": {
        "colab": {
          "base_uri": "https://localhost:8080/"
        },
        "id": "xo4fyMugOXG-",
        "outputId": "73e87061-baef-4bc7-b0a6-67584a9eead5"
      },
      "execution_count": 11,
      "outputs": [
        {
          "output_type": "stream",
          "name": "stdout",
          "text": [
            "Accuracy:1.0\n",
            "Classification Report:\n",
            "               precision    recall  f1-score   support\n",
            "\n",
            "           0       1.00      1.00      1.00        49\n",
            "           1       1.00      1.00      1.00        15\n",
            "\n",
            "    accuracy                           1.00        64\n",
            "   macro avg       1.00      1.00      1.00        64\n",
            "weighted avg       1.00      1.00      1.00        64\n",
            "\n"
          ]
        }
      ]
    },
    {
      "cell_type": "code",
      "source": [
        "from imblearn.over_sampling import SMOTE\n",
        "from sklearn.datasets import make_classification\n",
        "\n",
        "\n",
        "X, y = make_classification(n_classes=2, weights=[0.1, 0.9], n_samples=1000, random_state=42)\n",
        "\n",
        "\n",
        "smote = SMOTE(sampling_strategy='auto', random_state=42)\n",
        "\n",
        "\n",
        "X_resampled, y_resampled = smote.fit_resample(X, y)"
      ],
      "metadata": {
        "id": "UfgGNA6vOcuj"
      },
      "execution_count": 12,
      "outputs": []
    },
    {
      "cell_type": "code",
      "source": [
        "print(X.shape)"
      ],
      "metadata": {
        "colab": {
          "base_uri": "https://localhost:8080/"
        },
        "id": "zZj9a2ELBuGe",
        "outputId": "95748de0-83c6-4f45-a045-54f53c494b14"
      },
      "execution_count": 13,
      "outputs": [
        {
          "output_type": "stream",
          "name": "stdout",
          "text": [
            "(1000, 20)\n"
          ]
        }
      ]
    },
    {
      "cell_type": "code",
      "source": [
        "import numpy as np\n",
        "\n",
        "class Perceptron:\n",
        "    def __init__(self, learning_rate=0.01, n_iterations=1000):\n",
        "        self.learning_rate = learning_rate\n",
        "        self.n_iterations = n_iterations\n",
        "\n",
        "    def fit(self, X, y):\n",
        "        self.weights = np.zeros(x_train.shape[1])\n",
        "        self.bias = 0\n",
        "\n",
        "        for _   in range(self.n_iterations):\n",
        "            errors = 0\n",
        "            for i in range(x_train.shape[0]):\n",
        "\n",
        "                y_pred = np.dot(X[i], self.weights) + self.bias\n",
        "\n",
        "\n",
        "                if y[i] * y_pred <= 0:\n",
        "                    self.weights += self.learning_rate * y[i] * X[i]\n",
        "                    self.bias += self.learning_rate * y[i]\n",
        "                    errors += 1\n",
        "\n",
        "\n",
        "            if errors == 0:\n",
        "                break\n",
        "\n",
        "    def predict(self, X):\n",
        "\n",
        "        y_pred = np.dot(X, self.weights) + self.bias\n",
        "        return np.sign(y_pred)\n",
        "\n",
        "X = np.array(x)\n",
        "Y = np.array(y)\n",
        "perceptron = Perceptron(learning_rate=0.1,n_iterations=1000)\n",
        "perceptron.fit(X, Y)\n",
        "predictions = perceptron.predict(x_test)\n",
        "print(\"Predictions:\",predictions)"
      ],
      "metadata": {
        "colab": {
          "base_uri": "https://localhost:8080/"
        },
        "id": "lAI7g0oBOhgG",
        "outputId": "3744655c-8f3c-4a7c-b957-585fb0a25f7f"
      },
      "execution_count": 14,
      "outputs": [
        {
          "output_type": "stream",
          "name": "stdout",
          "text": [
            "Predictions: [1. 1. 1. 1. 1. 1. 1. 1. 1. 1. 1. 1. 1. 1. 1. 1. 1. 1. 1. 1. 1. 1. 1. 1.\n",
            " 1. 1. 1. 1. 1. 1. 1. 1. 1. 1. 1. 1. 1. 1. 1. 1. 1. 1. 1. 1. 1. 1. 1. 1.\n",
            " 1. 1. 1. 1. 1. 1. 1. 1. 1. 1. 1. 1. 1. 1. 1. 1.]\n"
          ]
        }
      ]
    },
    {
      "cell_type": "code",
      "source": [
        "# Import necessary libraries\n",
        "from sklearn import datasets\n",
        "from sklearn.model_selection import train_test_split\n",
        "from sklearn.svm import SVC\n",
        "from sklearn.metrics import accuracy_score\n",
        "\n",
        "\n",
        "# Split the dataset into training and testing sets\n",
        "X_train, X_test, y_train, y_test = train_test_split(X_resampled, y_resampled, test_size=0.2, random_state=42)\n",
        "\n",
        "# Create an SVM classifier\n",
        "svm_classifier = SVC(kernel='linear')  # You can choose different kernels like 'linear', 'rbf', etc.\n",
        "\n",
        "# Train the classifier on the training data\n",
        "svm_classifier.fit(X_train, y_train)\n",
        "\n",
        "# Make predictions on the test data\n",
        "y_pred = svm_classifier.predict(X_test)\n",
        "\n",
        "# Calculate accuracy\n",
        "accuracy_SVM = accuracy_score(y_test, y_pred)\n",
        "print(f\"Accuracy:{accuracy_SVM}\")\n",
        "print(\"Classification Report:\\n\",report)"
      ],
      "metadata": {
        "colab": {
          "base_uri": "https://localhost:8080/"
        },
        "id": "NekpSvVTOwjw",
        "outputId": "344d8e82-d623-4e92-b8d4-b7ca0ed6faf5"
      },
      "execution_count": 15,
      "outputs": [
        {
          "output_type": "stream",
          "name": "stdout",
          "text": [
            "Accuracy:0.8687150837988827\n",
            "Classification Report:\n",
            "               precision    recall  f1-score   support\n",
            "\n",
            "           0       1.00      1.00      1.00        49\n",
            "           1       1.00      1.00      1.00        15\n",
            "\n",
            "    accuracy                           1.00        64\n",
            "   macro avg       1.00      1.00      1.00        64\n",
            "weighted avg       1.00      1.00      1.00        64\n",
            "\n"
          ]
        }
      ]
    },
    {
      "cell_type": "code",
      "source": [
        "import numpy as np\n",
        "import matplotlib.pyplot as plt\n",
        "import seaborn as sns\n",
        "from sklearn.metrics import confusion_matrix, accuracy_score\n",
        "\n",
        "\n",
        "# Create a confusion matrix\n",
        "confusion_mat = confusion_matrix(y_test, y_pred)\n",
        "\n",
        "# Calculate accuracy\n",
        "accuracy = accuracy_score(y_test, y_pred)\n",
        "print(f'Accuracy: {accuracy:.2f}')\n",
        "\n",
        "# Create a heatmap for the confusion matrix\n",
        "plt.figure(figsize=(8, 6))\n",
        "sns.heatmap(confusion_mat, annot=True, fmt='d', cmap='Blues', cbar=False,\n",
        "            xticklabels=['Predicted 0', 'Predicted 1'], yticklabels=['Actual 0', 'Actual 1'])\n",
        "plt.xlabel('Predicted')\n",
        "plt.ylabel('Actual')\n",
        "plt.title('Confusion Matrix Heatmap')\n",
        "plt.show()"
      ],
      "metadata": {
        "colab": {
          "base_uri": "https://localhost:8080/",
          "height": 581
        },
        "id": "BGENpuvpPfaD",
        "outputId": "b7fb4676-cc14-4084-f98e-56b0208454a2"
      },
      "execution_count": 16,
      "outputs": [
        {
          "output_type": "stream",
          "name": "stdout",
          "text": [
            "Accuracy: 0.87\n"
          ]
        },
        {
          "output_type": "display_data",
          "data": {
            "text/plain": [
              "<Figure size 800x600 with 1 Axes>"
            ],
            "image/png": "[encoded data removed]"
          },
          "metadata": {}
        }
      ]
    },
    {
      "cell_type": "code",
      "source": [
        "import matplotlib.pyplot as plt\n",
        "\n",
        "algorithm_names = ['Perceptron network','Support Vector Machine before SMOTE ', 'Logistic Regression', 'Support Vector Machine']\n",
        "accuracy_scores = [accuracy, accuracy_LR,accuracy_svm1, accuracy_SVM]\n",
        "\n",
        "plt.figure(figsize=(10, 5))\n",
        "\n",
        "# Bar chart for accuracy scores\n",
        "plt.bar(algorithm_names, accuracy_scores, color='Green', alpha=0.7)\n",
        "plt.xlabel('Classification Algorithms')\n",
        "plt.ylabel('Accuracy Scores')\n",
        "plt.title('Performance Comparison')\n",
        "\n",
        "# Adding data labels\n",
        "for i, v in enumerate(accuracy_scores):\n",
        "    plt.text(i, v + 0.01, str(round(v, 2)), ha='center', va='bottom')\n",
        "\n",
        "# Rotating the x-axis labels for better visibility\n",
        "plt.xticks(rotation=45)\n",
        "\n",
        "# Displaying the plot\n",
        "plt.show()"
      ],
      "metadata": {
        "colab": {
          "base_uri": "https://localhost:8080/",
          "height": 676
        },
        "id": "a7SLJYGtPgKl",
        "outputId": "be5afd1a-1ddd-488a-de37-caa878faffa3"
      },
      "execution_count": 17,
      "outputs": [
        {
          "output_type": "display_data",
          "data": {
            "text/plain": [
              "<Figure size 1000x500 with 1 Axes>"
            ],
            "image/png": "[encoded data removed]"
          },
          "metadata": {}
        }
      ]
    },
    {
      "cell_type": "code",
      "source": [
        "import numpy as np\n",
        "from sklearn.neighbors import KNeighborsClassifier\n",
        "from sklearn.utils import resample\n",
        "from sklearn.metrics import accuracy_score\n",
        "from sklearn.svm import SVC\n",
        "from sklearn.model_selection import train_test_split\n",
        "\n",
        "# Define a function to perform bootstrapping\n",
        "def bootstrap(X, y, n_samples):\n",
        "    X_resampled, y_resampled = resample(X, y, n_samples=n_samples, random_state=42)\n",
        "    return X_resampled, y_resampled\n",
        "\n",
        "# Split the dataset into training and testing sets\n",
        "X_train, X_test, y_train, y_test = train_test_split(X_resampled, y_resampled, test_size=0.2, random_state=42)\n",
        "\n",
        "# Define the number of neighbors for KNN\n",
        "n_neighbors = 5\n",
        "\n",
        "# Number of bootstraps\n",
        "n_bootstraps = 100\n",
        "\n",
        "# Lists to store accuracy scores from each bootstrap\n",
        "accuracy_scores = []\n",
        "\n",
        "for _ in range(n_bootstraps):\n",
        "    # Perform bootstrapping\n",
        "    x_train_bootstrap, y_train_bootstrap = bootstrap(X_train, y_train, n_samples=len(X_train))\n",
        "\n",
        "    # Create a KNN classifier\n",
        "    knn = KNeighborsClassifier(n_neighbors=n_neighbors)\n",
        "\n",
        "    # Fit the KNN model to the bootstrapped data\n",
        "    knn.fit(x_train_bootstrap, y_train_bootstrap)\n",
        "\n",
        "    # Make predictions on the test data\n",
        "    y_pred = knn.predict(X_test)\n",
        "\n",
        "    # Calculate accuracy and append it to the list\n",
        "    accuracy = accuracy_score(y_test, y_pred)\n",
        "    accuracy_scores.append(accuracy)\n",
        "\n",
        "# Calculate the average accuracy from all bootstraps\n",
        "average_accuracy_knn = np.mean(accuracy_scores)\n",
        "\n",
        "print(\"Average KNN Accuracy:\", average_accuracy_knn)\n",
        "\n",
        "# Create an SVM classifier with a linear kernel\n",
        "svm_classifier = SVC(kernel='linear')\n",
        "\n",
        "# Train the SVM classifier on the training data\n",
        "svm_classifier.fit(X_train, y_train)\n",
        "\n",
        "# Make predictions on the test data\n",
        "y_pred_svm = svm_classifier.predict(X_test)\n",
        "\n",
        "# Calculate accuracy for SVM\n",
        "accuracy_SVM = accuracy_score(y_test, y_pred_svm)\n",
        "print(f\"SVM Accuracy: {accuracy_SVM}\")\n",
        "\n",
        "# You can also generate and print the classification report for SVM\n",
        "from sklearn.metrics import classification_report\n",
        "report_svm = classification_report(y_test, y_pred_svm)\n",
        "print(\"SVM Classification Report:\\n\", report_svm)\n"
      ],
      "metadata": {
        "id": "1rTzQnmQPkyA",
        "colab": {
          "base_uri": "https://localhost:8080/"
        },
        "outputId": "1a246735-da6d-4c27-fb8f-522cd4c38610"
      },
      "execution_count": 21,
      "outputs": [
        {
          "output_type": "stream",
          "name": "stdout",
          "text": [
            "Average KNN Accuracy: 0.8659217877094971\n",
            "SVM Accuracy: 0.8687150837988827\n",
            "SVM Classification Report:\n",
            "               precision    recall  f1-score   support\n",
            "\n",
            "           0       0.85      0.90      0.87       182\n",
            "           1       0.89      0.84      0.86       176\n",
            "\n",
            "    accuracy                           0.87       358\n",
            "   macro avg       0.87      0.87      0.87       358\n",
            "weighted avg       0.87      0.87      0.87       358\n",
            "\n"
          ]
        }
      ]
    },
    {
      "cell_type": "code",
      "source": [
        "import numpy as np\n",
        "from sklearn.neighbors import KNeighborsClassifier\n",
        "from sklearn.utils import resample\n",
        "from sklearn.metrics import accuracy_score\n",
        "from sklearn.svm import SVC\n",
        "from sklearn.model_selection import train_test_split\n",
        "import matplotlib.pyplot as plt\n",
        "\n",
        "# Define a function to perform bootstrapping\n",
        "def bootstrap(X, y, n_samples):\n",
        "    X_resampled, y_resampled = resample(X, y, n_samples=n_samples, random_state=42)\n",
        "    return X_resampled, y_resampled\n",
        "\n",
        "# Load your dataset and preprocess as needed\n",
        "# (the data loading and preprocessing code here)\n",
        "\n",
        "# Split the dataset into training and testing sets\n",
        "X_train, X_test, y_train, y_test = train_test_split(X_resampled, y_resampled, test_size=0.2, random_state=42)\n",
        "\n",
        "# Define the number of neighbors for KNN\n",
        "n_neighbors = 5\n",
        "\n",
        "# Number of bootstraps\n",
        "n_bootstraps = 100\n",
        "\n",
        "# Lists to store accuracy scores from each bootstrap\n",
        "accuracy_scores_knn = []\n",
        "\n",
        "for _ in range(n_bootstraps):\n",
        "    # Perform bootstrapping\n",
        "    x_train_bootstrap, y_train_bootstrap = bootstrap(X_train, y_train, n_samples=len(X_train))\n",
        "\n",
        "    # Create a KNN classifier\n",
        "    knn = KNeighborsClassifier(n_neighbors=n_neighbors)\n",
        "\n",
        "    # Fit the KNN model to the bootstrapped data\n",
        "    knn.fit(x_train_bootstrap, y_train_bootstrap)\n",
        "\n",
        "    # Make predictions on the test data\n",
        "    y_pred_knn = knn.predict(X_test)\n",
        "\n",
        "    # Calculate accuracy and append it to the list\n",
        "    accuracy_knn = accuracy_score(y_test, y_pred_knn)\n",
        "    accuracy_scores_knn.append(accuracy_knn)\n",
        "\n",
        "# Calculate the average accuracy from all bootstraps for KNN\n",
        "average_accuracy_knn = np.mean(accuracy_scores_knn)\n",
        "print(\"Average KNN Accuracy:\", average_accuracy_knn)\n",
        "\n",
        "# (the rest of your code for SVM, Perceptron, Logistic Regression, and result plotting)\n"
      ],
      "metadata": {
        "colab": {
          "base_uri": "https://localhost:8080/"
        },
        "id": "OqNF98TaEetS",
        "outputId": "44f94a0e-c876-4794-fdf3-83b6fe5bf183"
      },
      "execution_count": 22,
      "outputs": [
        {
          "output_type": "stream",
          "name": "stdout",
          "text": [
            "Average KNN Accuracy: 0.8659217877094971\n"
          ]
        }
      ]
    },
    {
      "cell_type": "code",
      "source": [],
      "metadata": {
        "id": "wSgSqtvEMmoD"
      },
      "execution_count": null,
      "outputs": []
    }
  ]
}